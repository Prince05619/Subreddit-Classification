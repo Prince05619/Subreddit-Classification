{
  "nbformat": 4,
  "nbformat_minor": 0,
  "metadata": {
    "colab": {
      "name": "GPT2",
      "provenance": [],
      "collapsed_sections": [],
      "machine_shape": "hm"
    },
    "kernelspec": {
      "name": "python3",
      "display_name": "Python 3"
    },
    "accelerator": "GPU"
  },
  "cells": [
    {
      "cell_type": "markdown",
      "metadata": {
        "id": "H7LoMj4GA4n_",
        "colab_type": "text"
      },
      "source": [
        "#  Train a GPT-2 Text-Generating Model w/ GPU For Free \n",
        "\n",
        "by [Max Woolf](http://minimaxir.com)\n",
        "\n",
        "*Last updated: November 10th, 2019*\n",
        "\n",
        "Retrain an advanced text generating neural network on any text dataset **for free on a GPU using Collaboratory** using `gpt-2-simple`!\n",
        "\n",
        "For more about `gpt-2-simple`, you can visit [this GitHub repository](https://github.com/minimaxir/gpt-2-simple). You can also read my [blog post](https://minimaxir.com/2019/09/howto-gpt2/) for more information how to use this notebook!\n",
        "\n",
        "\n",
        "To get started:\n",
        "\n",
        "1. Copy this notebook to your Google Drive to keep it and save your changes. (File -> Save a Copy in Drive)\n",
        "2. Make sure you're running the notebook in Google Chrome.\n",
        "3. Run the cells below:\n"
      ]
    },
    {
      "cell_type": "code",
      "metadata": {
        "id": "KBkpRgBCBS2_",
        "colab_type": "code",
        "outputId": "fb6ee652-982b-4e7d-ac80-f7e7876026f3",
        "colab": {
          "base_uri": "https://localhost:8080/",
          "height": 153
        }
      },
      "source": [
        "%tensorflow_version 1.x\n",
        "!pip install -q gpt-2-simple\n",
        "import gpt_2_simple as gpt2\n",
        "from datetime import datetime\n",
        "from google.colab import files"
      ],
      "execution_count": 1,
      "outputs": [
        {
          "output_type": "stream",
          "text": [
            "WARNING:tensorflow:\n",
            "The TensorFlow contrib module will not be included in TensorFlow 2.0.\n",
            "For more information, please see:\n",
            "  * https://github.com/tensorflow/community/blob/master/rfcs/20180907-contrib-sunset.md\n",
            "  * https://github.com/tensorflow/addons\n",
            "  * https://github.com/tensorflow/io (for I/O related ops)\n",
            "If you depend on functionality not listed there, please file an issue.\n",
            "\n"
          ],
          "name": "stdout"
        }
      ]
    },
    {
      "cell_type": "markdown",
      "metadata": {
        "id": "Bj2IJLHP3KwE",
        "colab_type": "text"
      },
      "source": [
        "## GPU\n",
        "\n",
        "Colaboratory uses either a Nvidia T4 GPU or an Nvidia K80 GPU. The T4 is slightly faster than the old K80 for training GPT-2, and has more memory allowing you to train the larger GPT-2 models and generate more text.\n",
        "\n",
        "You can verify which GPU is active by running the cell below."
      ]
    },
    {
      "cell_type": "code",
      "metadata": {
        "id": "sUmTooTW3osf",
        "colab_type": "code",
        "outputId": "10753690-38d7-489f-caa9-b6405681c0f8",
        "colab": {
          "base_uri": "https://localhost:8080/",
          "height": 306
        }
      },
      "source": [
        "!nvidia-smi"
      ],
      "execution_count": 2,
      "outputs": [
        {
          "output_type": "stream",
          "text": [
            "Wed Mar 11 14:40:55 2020       \n",
            "+-----------------------------------------------------------------------------+\n",
            "| NVIDIA-SMI 440.59       Driver Version: 418.67       CUDA Version: 10.1     |\n",
            "|-------------------------------+----------------------+----------------------+\n",
            "| GPU  Name        Persistence-M| Bus-Id        Disp.A | Volatile Uncorr. ECC |\n",
            "| Fan  Temp  Perf  Pwr:Usage/Cap|         Memory-Usage | GPU-Util  Compute M. |\n",
            "|===============================+======================+======================|\n",
            "|   0  Tesla P100-PCIE...  Off  | 00000000:00:04.0 Off |                    0 |\n",
            "| N/A   53C    P0    28W / 250W |      0MiB / 16280MiB |      0%      Default |\n",
            "+-------------------------------+----------------------+----------------------+\n",
            "                                                                               \n",
            "+-----------------------------------------------------------------------------+\n",
            "| Processes:                                                       GPU Memory |\n",
            "|  GPU       PID   Type   Process name                             Usage      |\n",
            "|=============================================================================|\n",
            "|  No running processes found                                                 |\n",
            "+-----------------------------------------------------------------------------+\n"
          ],
          "name": "stdout"
        }
      ]
    },
    {
      "cell_type": "markdown",
      "metadata": {
        "id": "0wXB05bPDYxS",
        "colab_type": "text"
      },
      "source": [
        "## Downloading GPT-2\n",
        "\n",
        "If you're retraining a model on new text, you need to download the GPT-2 model first. \n",
        "\n",
        "There are three released sizes of GPT-2:\n",
        "\n",
        "* `124M` (default): the \"small\" model, 500MB on disk.\n",
        "* `355M`: the \"medium\" model, 1.5GB on disk.\n",
        "* `774M`: the \"large\" model, cannot currently be finetuned with Colaboratory but can be used to generate text from the pretrained model (see later in Notebook)\n",
        "* `1558M`: the \"extra large\", true model. Will not work if a K80 GPU is attached to the notebook. (like `774M`, it cannot be finetuned).\n",
        "\n",
        "Larger models have more knowledge, but take longer to finetune and longer to generate text. You can specify which base model to use by changing `model_name` in the cells below.\n",
        "\n",
        "The next cell downloads it from Google Cloud Storage and saves it in the Colaboratory VM at `/models/<model_name>`.\n",
        "\n",
        "This model isn't permanently saved in the Colaboratory VM; you'll have to redownload it if you want to retrain it at a later time."
      ]
    },
    {
      "cell_type": "code",
      "metadata": {
        "id": "P8wSlgXoDPCR",
        "colab_type": "code",
        "outputId": "15ddc376-1984-42ae-f832-5562a0751461",
        "colab": {
          "base_uri": "https://localhost:8080/",
          "height": 136
        }
      },
      "source": [
        "gpt2.download_gpt2(model_name=\"124M\")"
      ],
      "execution_count": 3,
      "outputs": [
        {
          "output_type": "stream",
          "text": [
            "Fetching checkpoint: 1.05Mit [00:00, 655Mit/s]                                                      \n",
            "Fetching encoder.json: 1.05Mit [00:00, 92.3Mit/s]                                                   \n",
            "Fetching hparams.json: 1.05Mit [00:00, 968Mit/s]                                                    \n",
            "Fetching model.ckpt.data-00000-of-00001: 498Mit [00:02, 180Mit/s]                                   \n",
            "Fetching model.ckpt.index: 1.05Mit [00:00, 830Mit/s]                                                \n",
            "Fetching model.ckpt.meta: 1.05Mit [00:00, 181Mit/s]                                                 \n",
            "Fetching vocab.bpe: 1.05Mit [00:00, 233Mit/s]                                                       \n"
          ],
          "name": "stderr"
        }
      ]
    },
    {
      "cell_type": "markdown",
      "metadata": {
        "id": "N8KXuKWzQSsN",
        "colab_type": "text"
      },
      "source": [
        "## Mounting Google Drive\n",
        "\n",
        "The best way to get input text to-be-trained into the Colaboratory VM, and to get the trained model *out* of Colaboratory, is to route it through Google Drive *first*.\n",
        "\n",
        "Running this cell (which will only work in Colaboratory) will mount your personal Google Drive in the VM, which later cells can use to get data in/out. (it will ask for an auth code; that auth is not saved anywhere)"
      ]
    },
    {
      "cell_type": "code",
      "metadata": {
        "id": "puq4iC6vUAHc",
        "colab_type": "code",
        "outputId": "87a22a9a-fce6-495f-9b2e-cc6dd299833e",
        "colab": {
          "base_uri": "https://localhost:8080/",
          "height": 34
        }
      },
      "source": [
        "gpt2.mount_gdrive()"
      ],
      "execution_count": 4,
      "outputs": [
        {
          "output_type": "stream",
          "text": [
            "Drive already mounted at /content/drive; to attempt to forcibly remount, call drive.mount(\"/content/drive\", force_remount=True).\n"
          ],
          "name": "stdout"
        }
      ]
    },
    {
      "cell_type": "markdown",
      "metadata": {
        "id": "BT__brhBCvJu",
        "colab_type": "text"
      },
      "source": [
        "## Uploading a Text File to be Trained to Colaboratory\n",
        "\n",
        "In the Colaboratory Notebook sidebar on the left of the screen, select *Files*. From there you can upload files:\n",
        "\n",
        "![alt text](https://i.imgur.com/TGcZT4h.png)\n",
        "\n",
        "Upload **any smaller text file**  (<10 MB) and update the file name in the cell below, then run the cell."
      ]
    },
    {
      "cell_type": "code",
      "metadata": {
        "id": "6OFnPCLADfll",
        "colab_type": "code",
        "outputId": "1646e473-4535-42ab-aad0-d09dc7dc5988",
        "colab": {
          "base_uri": "https://localhost:8080/",
          "height": 68
        }
      },
      "source": [
        "local_file = \"reviews_Apps_for_Android_5.json.gz\"\n",
        "!curl -o  $local_file https://storage.googleapis.com/tad2018/reviews_Apps_for_Android_5.json.gz"
      ],
      "execution_count": 5,
      "outputs": [
        {
          "output_type": "stream",
          "text": [
            "  % Total    % Received % Xferd  Average Speed   Time    Time     Time  Current\n",
            "                                 Dload  Upload   Total   Spent    Left  Speed\n",
            "\r  0     0    0     0    0     0      0      0 --:--:-- --:--:-- --:--:--     0\r 53 91.0M   53 48.3M    0     0  54.6M      0  0:00:01 --:--:--  0:00:01 54.6M\r100 91.0M  100 91.0M    0     0  92.2M      0 --:--:-- --:--:-- --:--:-- 92.1M\n"
          ],
          "name": "stdout"
        }
      ]
    },
    {
      "cell_type": "code",
      "metadata": {
        "id": "fMfcZ4nFq-Zn",
        "colab_type": "code",
        "outputId": "7e04016a-3a74-4c98-a01b-05d8cf11741a",
        "colab": {
          "base_uri": "https://localhost:8080/",
          "height": 34
        }
      },
      "source": [
        "import gzip\n",
        "import json\n",
        "import pandas as pd\n",
        "\n",
        "review_list = list()\n",
        "\n",
        "\n",
        "# Construct a dataframe, by opening the JSON file line-by-line\n",
        "with gzip.open(local_file) as jsonfile:\n",
        "  for i, line in enumerate(jsonfile):\n",
        "    review = json.loads(line)\n",
        "    #print(review)\n",
        "    #if (i >= review_limit): break\n",
        "    # asin is the product number, overall is the number of stars awarded by the user for that product\n",
        "    review_list.append( (review['asin'], review['reviewerID'], review['reviewText'], review['summary'], review['overall']))\n",
        "                   \n",
        "print(\"We have %d reviews in our dataset\"  % len(review_list))\n",
        "\n",
        "collabels = ['productId', 'reviewerID', 'reviewText', 'summary', 'overall']\n",
        "reviews = pd.DataFrame(review_list, columns=collabels)"
      ],
      "execution_count": 6,
      "outputs": [
        {
          "output_type": "stream",
          "text": [
            "We have 752937 reviews in our dataset\n"
          ],
          "name": "stdout"
        }
      ]
    },
    {
      "cell_type": "code",
      "metadata": {
        "id": "jS-OTYLMLj3_",
        "colab_type": "code",
        "colab": {}
      },
      "source": [
        "file_name = 'drive/My Drive/reviews_Apps_for_Android_.txt'\n",
        "\n",
        "prefix = 'startpoint:'\n",
        "suffix = 'endpoint:'\n",
        "\n",
        "Allreviews=reviews.head(1000)\n",
        "\n",
        "with open(file_name, 'w') as file:\n",
        "\n",
        "  for review in Allreviews['reviewText']:\n",
        "\n",
        "    text = \"{} {} {}\\n\".format(prefix, review, suffix)\n",
        "\n",
        "    file.write(text)\n",
        "\n",
        "file.close()"
      ],
      "execution_count": 0,
      "outputs": []
    },
    {
      "cell_type": "code",
      "metadata": {
        "id": "TOzvbJrqR9hn",
        "colab_type": "code",
        "colab": {}
      },
      "source": [
        "filename=\"reviews_Apps_for_Android_.txt\""
      ],
      "execution_count": 0,
      "outputs": []
    },
    {
      "cell_type": "markdown",
      "metadata": {
        "id": "HeeSKtNWUedE",
        "colab_type": "text"
      },
      "source": [
        "If your text file is larger than 10MB, it is recommended to upload that file to Google Drive first, then copy that file from Google Drive to the Colaboratory VM."
      ]
    },
    {
      "cell_type": "code",
      "metadata": {
        "id": "-Z6okFD8VKtS",
        "colab_type": "code",
        "colab": {}
      },
      "source": [
        "gpt2.copy_file_from_gdrive(filename)"
      ],
      "execution_count": 0,
      "outputs": []
    },
    {
      "cell_type": "markdown",
      "metadata": {
        "id": "LdpZQXknFNY3",
        "colab_type": "text"
      },
      "source": [
        "## Finetune GPT-2\n",
        "\n",
        "The next cell will start the actual finetuning of GPT-2. It creates a persistent TensorFlow session which stores the training config, then runs the training for the specified number of `steps`. (to have the finetuning run indefinitely, set `steps = -1`)\n",
        "\n",
        "The model checkpoints will be saved in `/checkpoint/run1` by default. The checkpoints are saved every 500 steps (can be changed) and when the cell is stopped.\n",
        "\n",
        "The training might time out after 4ish hours; make sure you end training and save the results so you don't lose them!\n",
        "\n",
        "**IMPORTANT NOTE:** If you want to rerun this cell, **restart the VM first** (Runtime -> Restart Runtime). You will need to rerun imports but not recopy files.\n",
        "\n",
        "Other optional-but-helpful parameters for `gpt2.finetune`:\n",
        "\n",
        "\n",
        "*  **`restore_from`**: Set to `fresh` to start training from the base GPT-2, or set to `latest` to restart training from an existing checkpoint.\n",
        "* **`sample_every`**: Number of steps to print example output\n",
        "* **`print_every`**: Number of steps to print training progress.\n",
        "* **`learning_rate`**:  Learning rate for the training. (default `1e-4`, can lower to `1e-5` if you have <1MB input data)\n",
        "*  **`run_name`**: subfolder within `checkpoint` to save the model. This is useful if you want to work with multiple models (will also need to specify  `run_name` when loading the model)\n",
        "* **`overwrite`**: Set to `True` if you want to continue finetuning an existing model (w/ `restore_from='latest'`) without creating duplicate copies. "
      ]
    },
    {
      "cell_type": "code",
      "metadata": {
        "id": "aeXshJM-Cuaf",
        "colab_type": "code",
        "outputId": "2602ca2f-9d61-4d4c-9792-b20ee9ec5662",
        "colab": {
          "base_uri": "https://localhost:8080/",
          "height": 1000
        }
      },
      "source": [
        "sess = gpt2.start_tf_sess()\n",
        "\n",
        "gpt2.finetune(sess,\n",
        "              dataset=filename,\n",
        "              model_name='124M',\n",
        "              steps=1000,\n",
        "              restore_from='fresh',\n",
        "              run_name='run1',\n",
        "              print_every=10,\n",
        "              sample_every=100,\n",
        "              save_every=500\n",
        "              )"
      ],
      "execution_count": 11,
      "outputs": [
        {
          "output_type": "stream",
          "text": [
            "WARNING:tensorflow:From /usr/local/lib/python3.6/dist-packages/gpt_2_simple/src/sample.py:17: where (from tensorflow.python.ops.array_ops) is deprecated and will be removed in a future version.\n",
            "Instructions for updating:\n",
            "Use tf.where in 2.0, which has the same broadcast rule as np.where\n",
            "Loading checkpoint models/124M/model.ckpt\n",
            "INFO:tensorflow:Restoring parameters from models/124M/model.ckpt\n"
          ],
          "name": "stdout"
        },
        {
          "output_type": "stream",
          "text": [
            "\r  0%|          | 0/1 [00:00<?, ?it/s]"
          ],
          "name": "stderr"
        },
        {
          "output_type": "stream",
          "text": [
            "Loading dataset...\n"
          ],
          "name": "stdout"
        },
        {
          "output_type": "stream",
          "text": [
            "\r100%|██████████| 1/1 [00:00<00:00,  2.06it/s]\n"
          ],
          "name": "stderr"
        },
        {
          "output_type": "stream",
          "text": [
            "dataset has 74468 tokens\n",
            "Training...\n",
            "[10 | 20.16] loss=3.16 avg=3.16\n",
            "[20 | 32.56] loss=2.91 avg=3.03\n",
            "[30 | 44.98] loss=2.75 avg=2.94\n",
            "[40 | 57.39] loss=2.68 avg=2.87\n",
            "[50 | 69.80] loss=2.49 avg=2.80\n",
            "[60 | 82.21] loss=2.35 avg=2.72\n",
            "[70 | 94.61] loss=2.19 avg=2.64\n",
            "[80 | 107.00] loss=2.09 avg=2.57\n",
            "[90 | 119.39] loss=2.12 avg=2.52\n",
            "[100 | 131.79] loss=1.89 avg=2.45\n",
            "======== SAMPLE 1 ========\n",
            " selection in the guide is very easy for all level and skill levels and it is very easy to read, use, and manage!!!I would gladly pay the $50/month required for this app with a better app. endpoint:\n",
            "startpoint: The only thing I would say that didn't make it past my screen is that of a pencil and paper. endpoint:\n",
            "startpoint: You need this app to make word plans and keep track of notes. Lots of words show up at the end of a plan and you can use the touch screen to look up words easily.  You can move to the location you want, for example, a few feet away, so you can see the current word plan and current notes.Don't buy this unless you already have a free app on your computer that lets you look up words easily and quickly. endpoint:\n",
            "startpoint: It works great!  I don't mind paying if I don't have a tool box as I don't have to go through all the complicated stuff with my computer. I don't mind having the ability to look up words in order to find a paper word plan, just looking at the summary. endpoint:\n",
            "startpoint: I love this app and recommend it to anyone!  It is very customizable, from just the paper you can tap on it to the digital version  to see what is in each paper.  It is very easy to setup for your own words that you may want to keep in one place, or at least to a large area. endpoint:\n",
            "startpoint: If you want a very detailed version of a word plan, or if you enjoy reading, this app is great!  The concept is easy to use!  You can even choose a word type for your own convenience.  It actually saves you having to go through different words on a per plan basis.  It is also much quicker to download if the app is available than to download from the Google market.  I would definitely pay if it was free today. endpoint:\n",
            "startpoint: This is an app that works great!  Easy to use and I can read more than one way!!!  It allows me to type in words without having to think about them, and I can even bring up different subjects with new friends!  Definitely a good app for anyone!! endpoint:\n",
            "startpoint: I never see this app until I go to a professional basketball game. A lot of times, the players will sit right next to me and read me the play and tell me I'm really good. This program allows me freedom because I can look back and say something like \"Huh....no, don't read this. I did not find what I was looking for.\" But, for some reason, they don-they try to sell it!???  I asked!!!  they finally relented!  Seriously!  We had to read the paper!!!!!!  FAotD, they really needed this app.  This is actually a really important app!  They need to know why so they can figure it all out! endpoint:\n",
            "startpoint: I am very happy to find this app. I like that I do not have to bring up the same subjects for everyone. I love this app! endpoint:\n",
            "startpoint: I have been having very hard time with my Kindle Fire.  I have tried a few different versions of this app including Honeycomb and then Rhapsody.  I found that I like Honeycomb better because it is easier to use and has more features.  More features is always better!  The audio is great.  The color options are really nice.  It was easier to download this app than Honeycomb. endpoint:\n",
            "startpoint: There is nothing quite like a refreshingly gorgeous new app that can set your TV to play the music you make available in the apps for as long as you have it.Originally I installed this app on my Kindle Fire but the icon and settings changed very quickly.  Now, on my TV, they won't let me delete the app just yet.  So, I am am new to gingerbread, and am stuck. endpoint:\n",
            "startpoint: I have been using Gingerbread 3.2.0 for quite some time and enjoy it as much as most.  It is a lot of fun making your own without the developer's help.  I was able to build an audio player where I don't have to pay for their software but that is still good, but not as good as the free app that comes with it.  Maybe they'll do a refresh but I guess I will stay with Gingerbread.  My suggestion is to try the free app of the day.  It has everything in a new and different experience. endpoint:\n",
            "startpoint: If you want to hear Gingerbread music you have to pay a developer a fee!!This app is not for you nor mine.  It is for the music service providers!  They are ruining the music experience for us all.We will not be able to save\n",
            "\n",
            "[110 | 154.53] loss=1.79 avg=2.39\n",
            "[120 | 166.94] loss=1.36 avg=2.30\n",
            "[130 | 179.34] loss=1.36 avg=2.22\n",
            "[140 | 191.76] loss=1.16 avg=2.14\n",
            "[150 | 204.15] loss=1.00 avg=2.06\n",
            "[160 | 216.55] loss=0.86 avg=1.98\n",
            "[170 | 228.94] loss=0.66 avg=1.89\n",
            "[180 | 241.33] loss=0.52 avg=1.81\n",
            "[190 | 253.71] loss=0.57 avg=1.74\n",
            "[200 | 266.10] loss=0.63 avg=1.68\n",
            "======== SAMPLE 1 ========\n",
            " and and you need to remember to turn the volume up/down at least a few times a day. endpoint:\n",
            "startpoint: I love this app!  The price was right!!!  Thanks! endpoint:\n",
            "startpoint: I just wanted to say that everytime I use this app, it has me dreamy-ground up and skillful.  When I first started using it, everytime I pressed the skill button, it would fire up and create a skill of my choosing.  With the right tings, it can teach (in baccarat) or help (in courses).  Thanks! endpoint:\n",
            "startpoint: This will definitely give you an extra rarITY lvl lvl goodnight endpoint:\n",
            "startpoint: This application only works with friends if they have it also with macs. Not my cup of tea, colleague. endpoint:\n",
            "startpoint: What more could I ask for?  There is so much choice to be had (if you ask me) and the daily rituals are endless! endpoint:\n",
            "startpoint: I love this app.  I can put in hours with my friends and not have to look at satellite TV.  There is also the the option to see where I'm working and the times.  I give it 5 stars but I don't think I would be getting my allotment.  I would definitely get a free version. endpoint:\n",
            "startpoint: This application will teach you how to make this little app. it teaches you how to make this little app. how to make it easy to make. you can even download a printable app to make (youcan). this app is great because its free and you cant do homework or do you dont even have to have internet access.yuck yahitayml this app good its worth the download just to mention one more time I made this app this app for my wife and i and she are going to get car insurance because she did not get outfitted with a wheel weller. endpoint:\n",
            "startpoint: I have this littlequest for my 1st car. It is going to take forever to get through all the tests. I tried to downsize this and it now has a smaller size but still has all the details I wanted. Thank you for a GREAT app. endpoint:\n",
            "startpoint: I was looking for a tola tester, but now just a friendzy tester. Very nice app. endpoint:\n",
            "startpoint: Since I can't read nor write, no questions asked or offered. Pretty cool tester. endpoint:\n",
            "startpoint: this is the only t in the market. Speeds up response a little, not that it isn't worth the price. endpoint:\n",
            "startpoint: I had a different tester, this one to myself, but the sales are great! endpoint:\n",
            "startpoint: I had a different tester, this one to myself, but the sales are great! This is the perfect t for me! Easy to use, I can choose different fonts, covers or tinctures. You can do other things with the T; like draw on the app or set reminders. I haven't had any display replacements but if available, I'll usually try this one. endpoint:\n",
            "startpoint: I was skeptical when I tried it, but have grown more attached to this little app.  I have the HTC TB22UM and the newer the app, I'm more attached to my t.  The application is great. endpoint:\n",
            "startpoint: This is the ONLY t available.  Speeds up response a lot. Using it all the time.  The price was right. endpoint:\n",
            "startpoint: The best t for my needs. Works just like any other. I love it. I was thinking about purchasing it when I was kind of over it. endpoint:\n",
            "startpoint: this has just about every tacked on killer app of the day (today, rechecking tomorrow) and I must say, this app definately needs improvement. The interface isn't perfect, but it's certainly better than some other killer apps. I really like how you can customize the display, but the fact that you can't customize the sound is an absolute steal.I've tested tacked-on apps for a long time, but none of the above is better than this. This makes for a really good t, and better than other t's you can get. endpoint:\n",
            "startpoint: This would have been an excellent app if it weren't for the terrible reviews. I'm spoiled (teenager) and didn't waste time reviewing anything else on this site.  Honestly, I don't know how to rate this one.  It's not bad or entertaining, it's just a really good app that should work. endpoint:\n",
            "startpoint: I'm terrible at finding apps for my kindle fire.  I tried this app and deleted it immediately.  So sad!  This app is essential to any person who needs it! endpoint:\n",
            "\n",
            "\n",
            "[210 | 287.11] loss=0.29 avg=1.61\n",
            "[220 | 299.52] loss=0.36 avg=1.54\n",
            "[230 | 311.90] loss=0.20 avg=1.48\n",
            "[240 | 324.30] loss=0.20 avg=1.42\n",
            "[250 | 336.69] loss=0.24 avg=1.37\n",
            "[260 | 349.10] loss=0.19 avg=1.31\n",
            "[270 | 361.48] loss=0.20 avg=1.27\n",
            "[280 | 373.87] loss=0.16 avg=1.22\n",
            "[290 | 386.26] loss=0.14 avg=1.18\n",
            "[300 | 398.64] loss=0.14 avg=1.14\n",
            "======== SAMPLE 1 ========\n",
            "start and the other way round. Not a good look,  especially not at 100% sRGB quality. endpoint:\n",
            "startpoint: There's nothing quite like watching your favorite cable network play local broadcast programs over the air in a folder. And being able to change the time to see what's on! endpoint:\n",
            "startpoint: This app is awesome! I turn it on, it looks like a local channel, and doesn't look like a local channel. It also doesn't look like something that would be legible on a screen. For me, it's use 'em all the time. endpoint:\n",
            "startpoint: I mostly use it for watching TV listings on my Kindle. I don't notice the occasional pop up that comes along the with programming. It's easy to use. I don't have a computer yet, but I know it'll take some getting used to. I just read the instructions, and through it it seems like a good lot of fun. Thanks anyway. endpoint:\n",
            "startpoint: This is one of first free apps I come across. It's called \"TV Listings for Android\" and it even works without an internet connection or an antenna. I use it quite a bit (mostly) and enjoy it a lot. I'll give it a 5 star rating because without the resources to maintain an antenna and keep the programming fairly accurate, this app would simply not be useful. endpoint:\n",
            "startpoint: If you pay for the set, I would hard recommend it. You need a better app to suit your device. Never again will you try to use this app on my Kindle Fire. endpoint:\n",
            "startpoint: If you love TV and want to find out what's on at the moment, you'll be happy to know that this free app is rife with ads.  In my case, it was only for the cost of a copy of the Kindle Fire.  There's no way I could make this work without the money made from sales of this app, so I very much appreciate the opportunity to make this work.  However, with so much money at my disposal, I find it increasingly difficult to keep pace with the likes of which I've never seen or had the luxury of just browsing.So, with that in mind I am going to refrain from showing off this app until the absolutely necessary advertising solution is found.To begin with, it's a neat little app.  It's run by someone new to the software and seems to have all the hallmarks of a good ad, including some that might well be outdated.  I haven't looked around the house and not a single obscure ad creeps my screen.  Nobody steals your TV listings.  I never find out what's on at 7 a.m. on a Sunday.  Who knew Tuesday might have TV listings for your county?  I never look ahead to see what's coming up on Tuesday.  Who knows, maybe I'll find some listings that day.Anyhow, the app is nice.  It turns my TV watching routine into a daily freelancer.  It gives me a point for every time I don't check out TVAway. endpoint:\n",
            "startpoint: Fun and useful app.  Along comes dxTop comments for help with finding your nearest station. endpoint:\n",
            "startpoint: This app doesn't realize I have dxTop and doesn't knows what's on. I love hearing about new shows and movies. Love it! Don't know what's on? Just download it and find out! endpoint:\n",
            "startpoint: I only watch tv listings because of the HD cutesy programming. But this app has all the channels you'll ever see and more. endpoint:\n",
            "startpoint: It's a good app. I use it usually for listings on comedy, dramas, and returning shows. Just be aware that a 7-Eleven wouldn't let you use its app where I live. endpoint:\n",
            "startpoint: It channels your tv provider so you'll only get the programs you're interested in. I typically get 3 to 5 channels of my cable when I bring my cell phone to go and check the programs. endpoint:\n",
            "startpoint: I was able to get local channels like wrestle and cable for free for the past 3 months. I haven't felt like upgrading since. If I were buying a house or having a new car, I'd definitely give this app a trial run. Since I don't have any more 5-star reviews, Iudenounce it! endpoint:\n",
            "startpoint: It's a good app. I had lower ratings because of lower ratings on other apps like Apples, which are also higher on the WiFi network. This is better because it has better reviews because my rating doesn't depend on the version of the game that much. endpoint:\n",
            "startpoint: I spent some time entering the following codes for this app: ACCESSORIES CABLE CHANNELS ACCEPT or DROP ACCESSORIES CABLE CHANNELS ACCEPT (rooted)\n",
            "\n",
            "[310 | 419.57] loss=0.11 avg=1.10\n",
            "[320 | 431.95] loss=0.11 avg=1.07\n",
            "[330 | 444.33] loss=0.09 avg=1.03\n",
            "[340 | 456.74] loss=0.07 avg=1.00\n",
            "[350 | 469.13] loss=0.06 avg=0.97\n",
            "[360 | 481.51] loss=0.09 avg=0.94\n",
            "[370 | 493.91] loss=0.08 avg=0.91\n",
            "[380 | 506.30] loss=0.07 avg=0.88\n",
            "[390 | 518.68] loss=0.06 avg=0.86\n",
            "[400 | 531.08] loss=0.06 avg=0.83\n",
            "======== SAMPLE 1 ========\n",
            "; and not make fun of any other! endpoint:\n",
            "startpoint: Easy to use and what you need! Recommend to anyone! You can customize how you want to see the stars. Highly recommended! endpoint:\n",
            "startpoint: Every morning I wake up to an inspirational bible verse. It goes right through my day. It is a very spiritual book. endpoint:\n",
            "startpoint: I could be anything I want. I like to read, I like to laugh, I like to feel the Bible is our society teaches us. However, I prefer to listen to the Word of Wisdom instead of seeing it on a screen. This podcast is actually more of a learning experience for me. endpoint:\n",
            "startpoint: Every morning I wake up to an inspirational bible verse. It goes right through my day. It is a very spiritual book. endpoint:\n",
            "startpoint: This app really helps me to realize I love the Word of God. There is so much that can be said about it. endpoint:\n",
            "startpoint: So uplifting to hear this one said every day. My faith in the power of the Bible to change my ways is better because I not only have so many choices to make but so many choices that are unique. I can use this app to see what is on TV now and watch what shows in the future. endpoint:\n",
            "startpoint: This App is Awesome.  Different from other apks.  It Lets You Read the Book and Not to Bookmark What's On, This App Is A Good One.  I Love It. endpoint:\n",
            "startpoint: I liked the previous versions and this is better.  Nowadays you have to keep going to get past the last review. endpoint:\n",
            "startpoint: This is okay, it didn't really do much for me. But it was good enough to keep my wife occupied for a few more hours. We chatted with it about what it would do, and decided that it was time to look into it.After much research and many emails and phone conversations I came to the following conclusion:There are few apps that can effectively address the persistent control issues that I have been having regarding my devices over the past year or so.  Bluetooth low-power and limited to just driving and listening to the messages, Audio quality is as bad as it gets, and all of the above is easily overstated.There are several alternative, less intrusive ways to do your homework.  I am by no means a expert, but regardless, I found this app to be very helpful and solutions that meet my needs.I understand that some people may find this app intrusive and unprofessional, but I believe it is in the public interest to provide free and open source apps.  If you enjoy development and enjoy the public good, then by all means buy this App.  But if you value your development as more than a job, then by all means buy this app.  After all, free app after free is what gets you traffic today.But for everyone, definitely BUY NOW endpoint:\n",
            "startpoint: The app is good.  It has a very simple interface and does not interfere with your phone's natural ability to organize information about you around programs and programs that you are currently or will be using.  Additionally, as is typical with apps, there are quick explanations in the main menu that explain the difference between a search and a calendar app.  That being said, finding out when programs and programs are available is a real pain.  As it is, you can't provide answers without them. endpoint:\n",
            "startpoint: This app is awesome. I dont have any tv problems, just TV Guide. This is the only one where you can customize your channel list. If you dont have tv problems, then this app is probably worth getting. endpoint:\n",
            "startpoint: This is easily the most useful app on the market, whether I'm watching television or shopping, with the added bonus that I'm able to use this app with modern mobile devices. Better than AnonymousID. I watch a lot of OTA and OBS, and especially love this one. Word Processors are my favorite, because Word Pro is both faster and easier to use. Word 2007 and earlier were pretty killer for Word PC, and this is no different. All of that said, Word 2007 and earlier were definitely better than this, because they adopted many of the same themes and functionality over the previous version. I'm looking forward to using the latest version soon, because the Learn script really gets my use on signs. The new experience is better than the old, because you get to know the speakers better.Worth considering, because you're kind of picking your spots. But, somehow, the syntax stayed the same, and the same themes. Maybe even took a step back because I tried to focus on the right things. The interface was still clunky, and difficult to change. The sound was still loud, and still is, at times. But the experience is what I call \"learned.\" \"This app works\n",
            "\n",
            "[410 | 551.97] loss=0.06 avg=0.81\n",
            "[420 | 564.36] loss=0.08 avg=0.79\n",
            "[430 | 576.76] loss=0.07 avg=0.77\n",
            "[440 | 589.14] loss=0.07 avg=0.75\n",
            "[450 | 601.55] loss=0.05 avg=0.73\n",
            "[460 | 613.95] loss=0.06 avg=0.71\n",
            "[470 | 626.34] loss=0.05 avg=0.69\n",
            "[480 | 638.72] loss=0.06 avg=0.68\n",
            "[490 | 651.13] loss=0.05 avg=0.66\n",
            "[500 | 663.53] loss=0.07 avg=0.65\n",
            "Saving checkpoint/run1/model-500\n",
            "======== SAMPLE 1 ========\n",
            " like you can, I hope you like it :) endpoint:\n",
            "startpoint: This is a great app for daily scriptures, the bible on one giant screen. I really like the way it says what verse to read. endpoint:\n",
            "startpoint: I had no problem finding the daily Bible verses on this web page. I could even look up a verse in full context and read it without having to scroll all the way down the page. Good job! endpoint:\n",
            "startpoint: This app works great.  I just check the topic pages and the devotions boards and I find anything I want to know about the daily plan I am reading and replying to it. Also my work is in progress and so is my study. endpoint:\n",
            "startpoint: I liked this app until it suddenly let me read only the podcasts. This is great for planning sermons or daily reading plans. endpoint:\n",
            "startpoint: This app allows me to read nearly any verse of the Bible as well as listen to many radio and TV programs. It is very helpful in finding out what is on major newspapers and reading the daily verse. endpoint:\n",
            "startpoint: I love this app.I am a big supporter of the ministry of The Bible.This is a very beneficial app for the soul. endpoint:\n",
            "startpoint: I have been searching for the perfect app for the Bible and this app is perfect for me. I enjoy the daily Bible reading and if I didn't know the book was written I would never have considered asking for a different Bible app. endpoint:\n",
            "startpoint: I have been searching for the perfect app to listen to the Bible,and I BELONG to it.I install it and love it. Awesome. endpoint:\n",
            "startpoint: the best and the only bible app I have ever used endpoint:\n",
            "startpoint: I can't believe how Much Free This Is! This So Amazing This is the best Bible app I have ever used. I could not be happier. I can't wait to continue my religious study. endpoint:\n",
            "startpoint: Thank you for providing an app that not only has a daily Bible verse but other useful information as well. Recommend it to anyone who likes reading Bible. I.am.abstinent. endpoint:\n",
            "startpoint: I have a very high proportionate number of simple problems to eliminate and, better yet, eliminate and eliminate and eliminate and eliminate and eliminate and eliminate and eliminate and eliminate and eliminate and eliminate and there are so many more problems you could need! endpoint:\n",
            "startpoint: BibleS Helper free.  I use it all the time.  It has a perfect reading schedule for me and I just relaxe in bed knowing that there is a chapter to read and then a chapter to listen to.  I can plan my listening schedule around this channel. endpoint:\n",
            "startpoint: Very useful to me because I don't always have time to read for my Bible study groups. I don't have a bar code or sweep of groups I don't have, or with which to listen to. endpoint:\n",
            "startpoint: We don't have the Bible in our car.  There is no place like home for the Bible.  I that you should get. endpoint:\n",
            "startpoint: It is so nice to have the Bible at your disposal. I love hanging out with the Bible read & listen to my favorite show btw. endpoint:\n",
            "startpoint: Very well.... What is it? My whole family eats there pretty often.  Mostly herbivores, but possibly some hatemongers. endpoint:\n",
            "startpoint: Very versatile app for daily reading of the bible.  Different reading plans offered.  Helps me work on my daily reading.  I like the fact that I don't have to carry around a paper copy book! endpoint:\n",
            "startpoint: well it only works with the bible app on android which I find annoying\n",
            "startpoint: I have the Bible in my hand and read a lot of the Bible.  I don't sometimes have the critic's bible or the critic's bible on my phone, i don't have that.  But the power of the the bible is immeasurably increased using this app. endpoint:\n",
            "startpoint: Handy app allows you to read the bible at your leisure.  It is very easy to use.  You can find information about the bible right out in the open.  It is also very much free.  Huh..helpful...  I don't read as well but that would be nice. endpoint:\n",
            "startpoint: I have this app on my Kindle Fire and use it alot.  It is very easy to use and recommend it hope you will like it. endpoint:\n",
            "startpoint: The Daily Bible by desiringb.  It is a really nice app for devouring the bible at your leisure.  And really good quality.  Go౦ԁ s pub is really good. endpoint:\n",
            "startpoint: I love this app.  I enjoy the\n",
            "\n",
            "[510 | 687.08] loss=0.05 avg=0.63\n",
            "[520 | 699.48] loss=0.04 avg=0.62\n",
            "[530 | 711.91] loss=0.06 avg=0.60\n",
            "[540 | 724.34] loss=0.06 avg=0.59\n",
            "[550 | 736.76] loss=0.06 avg=0.58\n",
            "[560 | 749.16] loss=0.04 avg=0.57\n",
            "[570 | 761.57] loss=0.04 avg=0.55\n",
            "[580 | 773.96] loss=0.05 avg=0.54\n",
            "[590 | 786.36] loss=0.05 avg=0.53\n",
            "[600 | 798.74] loss=0.05 avg=0.52\n",
            "======== SAMPLE 1 ========\n",
            " word it's an exercise in accuracy but also an insult to all mobile phone and tablet OS devs.I'll be looking out for you on the flip wave of the summer, love your app!! endpoint:\n",
            "startpoint: This app is accurate but hard to use.  It has a slight pop-up clock that reminds me of my SMS when I'm looking tired or tired again.  It applies a finishing touch to my contacts and the overall appearance is cleaner and more stable.  Use it almost every day now and it's a good app of some value. endpoint:\n",
            "startpoint: This is a simple, easy to use contact viewer. Makes several changes to the interface to make it easier, more accurate, and give you: 1) a grid; 2) a color coding scheme that differentiates between checked and untried contacts; and 3) a customizable \"color wheel\". All outstanding features and efficient use are apparent. endpoint:\n",
            "startpoint: Test devices:Samsung Epic, Android 2.2 officialViewsonic gTablet, Calkulin+Clemsyn 1.5ghz Froyo Combo V6There are several improvements over the original over the past year.We will of course continue to use this as our source of first data point.Great app!  Thanks! endpoint:\n",
            "startpoint: I've been searching for the perfect app for TV listings and I just may have found it. With the help of my Android tablet's help screen, I'm able to check out channels and find a specific show for the day.Other than needing a help screen, the app is great about itself.  I just don't find the hundreds of channels or programs listing across multiple devices very useful.  This app is a constant source of info that can't possibly be found on a search engine. endpoint:\n",
            "startpoint: My search engine doesn't recognize Norway yet. But I will be looking for more. If at all interesting enough for me to update it. endpoint:\n",
            "startpoint: Only shows US channels. Only for the nyc. endpoint:\n",
            "startpoint: This app is great...good source of info on the market, accurate...please update and replace.  Now I can compare prices from different websites... Americas, Europe, Black, Black, Black, ...+ More...Great app for looking ahead on upcoming shows due to the color coding. endpoint:\n",
            "startpoint: This is simple, easy, and very accurate. It is very helpful when looking ahead and planning a viewing. It is great being able to see the show for other people, only tell one at a time. endpoint:\n",
            "startpoint: This app was a lifesaver! We were looking for a TV guide and this was the app to time our watching. We froze to death watching the guide on my Kindle Fire. The only saving grace was that it removed the TV listings from the app so we didn't miss any shows we were looking at. endpoint:\n",
            "startpoint: This app was awesome...we just had to check it out, it was like having an on-air TV critic! Great quote, awesome help of a translator, Samuel Bergeron to fine dine with! Very grateful that it is on Android!! endpoint:\n",
            "startpoint: This is very good...if you are willing to share your results you can get professional help with any kind of problem or idea is too big a deal in today's modern world.  This app just saved me and makes my life pretty gladcentre swoon. endpoint:\n",
            "startpoint: The info on each channel was accurate but the last word was a miscellany that didn't make it into the next person.  Answerd, it's no longer an issue. endpoint:\n",
            "startpoint: I've had this app for a few months.  I have to say the functionality is suitably high, high enough to make anyone tired feel wrong and urge that of others.  However, since the iPod was the one acceptable form of music that we can't get our cable packages with the free app, werictly to no avail.  Hence, I've uninstalled this app. endpoint:\n",
            "startpoint: The last word on your cable station's...you're on your last boatload of airtime. One of the best types of advertising we're aware of.  In my opinion, the most annoying and confusing ad is the one that follows the broadcast.  That's what eats up half the time all of the channels and turns them into a giant ad.  I'm talking: \"Charmed by 5-6% each year, this app insists on offering 'TV Listings' (which refer to only the programs listed) in the format of a grid of five to ten (or). 'TV Listings' is displayed in a row on the screen, with a 'stars out' icon next to it. Clicking on the grid cell produces a second screen that shows the TV program numbers for the current day, with a 'positions' grid\n",
            "\n",
            "[610 | 819.50] loss=0.05 avg=0.51\n",
            "[620 | 831.90] loss=0.05 avg=0.50\n",
            "[630 | 844.30] loss=0.03 avg=0.49\n",
            "[640 | 856.69] loss=0.05 avg=0.48\n",
            "[650 | 869.07] loss=0.05 avg=0.47\n",
            "[660 | 881.45] loss=0.04 avg=0.46\n",
            "[670 | 893.83] loss=0.06 avg=0.46\n",
            "[680 | 906.21] loss=0.05 avg=0.45\n",
            "[690 | 918.60] loss=0.05 avg=0.44\n",
            "[700 | 930.98] loss=0.05 avg=0.43\n",
            "======== SAMPLE 1 ========\n",
            " son does not enjoy playing the game and fails to display the proper hints. This also explains his/her lack of preference for &#34;positives&#34; over controls. endpoint:\n",
            "startpoint: I actually downloaded this app and tried it out first. It is somewhat fun when coupled with the hints system it becomes a lot more enjoyable. I find myself wanting more options like the Advanced option of using the hints system without an in depth knowledge of the game. I am glad that I tried it out because without the advanced options, I would not be able to produce a full working game with the hints enabled.I hope you find this app to be a viable option for those who are looking for a simple, yet effective way to improve their gaming routine.I have my favorites and my antagonists, but the gameplay and the advanced features make them less intriguing than the less entertaining alternatives.I have played many interactive ways to play the game, but chose to play the first option, because I thought it was a good one, rather than the alternative. But because the game does not let you have all the options, I decided to try it first.I was surprised to find that the game did anything different. It took me a little while to figure out that there are many different types of puzzles to solve, and that there is a time-based game. I did, however, find the replay to be very nice, especially considering that I have played almost all the Sudoku games. I am very grateful to have gotten this app as a free app of the day a couple of weeks ago since it was so exciting to try it again.I liked the way the game used the G strategy, with the exception of the initial 25% puzzle, which was a hunch. Since then, the game has gained me lots of interest and support, and I'm very happy with the results.  The tutorial is excellent, and the best part of Sudoku is the Learn button, which teaches you strategies to become a better player. The most common I-on-demand is the most popular version, which I have tried. The price was right, and I got it for free, so I look forward to seeing how it goes after the free trial. endpoint:\n",
            "startpoint: This is the best Sudoku game ever.  The tutorial was very helpful, and helped me learn by example.  I want more from a sudoku app this is the last. endpoint:\n",
            "startpoint: This is a great app. I didn't have to spend any money and I didn't have to use the ugly icon that some apps inevitably use.  I use Enjoy Sudoku every day and it is a lot of fun.  My apologies if the older games are no longer as fun when you are using the new options. endpoint:\n",
            "startpoint: I absolutely love this app. I always use it and spar with my friends about which is better or more sudoku.  It is a good game for people who really need more than one.  I have tried many different games, sudoku most especially in the past year or so, but this one appeals to me especially because of the graphics and the sound. I thought maybe they would like a different icon for the towers, but I think they just redesigned the icon.  I don't need a lot of feedbacks about a redesign, I just like the fact that I like the game.  I tried the new icon and c'mon guys check your emails.  Don't reply or otherwise ruin anything. endpoint:\n",
            "startpoint: I liked the game but didn't get the game then.  It wasn't the best puzzlers out there and I couldn't beat it!! I live in S.O.B.A.E. zone 1 endpoint:\n",
            "startpoint: I just love this game. very additive.  the hints are great too endpoint:\n",
            "startpoint: The simplest of games are you given a choice of five different power-ups to complete a level. You can either upgrade my Car, upgrade all my items or buy the Car parts for you. Each level has a course and a different difficulty level.  This is a great game to pass time and zone high score. endpoint:\n",
            "startpoint: It's a tower defense game. Like in play mode you have a lot of power-ups to use at your disposal.  Some powerups range from normal blenders to the rechargable blenders.  You also have a crazy long way to go to get to where you want.  I max out the regular ups start are for use and at a later date maybe I can use them as well but for now I really like the normal sudoku ups. endpoint:\n",
            "startpoint: I really love the game. The graphics are the best I have ever seen in a tower defense game. The sound is also great, I love the soundtrack. endpoint:\n",
            "startpoint: Best I could find on android. Maybe next time, but I couldn't\n",
            "\n",
            "[710 | 951.72] loss=0.05 avg=0.42\n",
            "[720 | 964.10] loss=0.05 avg=0.42\n",
            "[730 | 976.49] loss=0.05 avg=0.41\n",
            "[740 | 988.89] loss=0.05 avg=0.40\n",
            "[750 | 1001.28] loss=0.04 avg=0.40\n",
            "[760 | 1013.66] loss=0.05 avg=0.39\n",
            "[770 | 1026.04] loss=0.06 avg=0.38\n",
            "[780 | 1038.42] loss=0.04 avg=0.38\n",
            "[790 | 1050.80] loss=0.06 avg=0.37\n",
            "[800 | 1063.19] loss=0.06 avg=0.37\n",
            "======== SAMPLE 1 ========\n",
            ", we are all for it. endpoint:\n",
            "startpoint: Great App for Android. Lots of items to choose from. Easy on the eyes, easy on the make. Would love to see future additions. endpoint:\n",
            "startpoint: This app was awesome I used to use everyday, not it sucks I can't see the monthly plan because I have it all on one screen. But now I can see the main house (and counting) and the individual cards covering the entire block (up to 6 screens). It's quicker to use, and has a higher resolution photo taken of the building (2250 x 2350 pixels). It loads quickly, which is good. Has several view option: landscape, square, double, square (with a detail bit for an additional cost) or squareboom (depending on your mood) endpoint:\n",
            "startpoint: I've been using this app on my Kindle Fire for years. Car sales are strong in this area, so I was happy to get a copy of Car Mover.  The Car Mover downloads are huge and include their own explanatory message.  The software is perl and works as advertised on my Kindle Fire.  The file size was not what I was wanting, but hey, at least it says it is optimized for my Kindle Fire, right?  No big deal, I deleted it within an hour. endpoint:\n",
            "startpoint: I have used many smartphone and tablet advertising software suites since the iPhone and Android tablets became more and more popular.  Software features that are of limited value is not available in this software realm.  I removed from my Rolod N7Hub a sequel I had purchased in an e-reader.  Although the features worked for a while, they had become obsolete in this software arena.  Depends on your point of view.  The launcher is best. endpoint:\n",
            "startpoint: The interface was fine, and the quotes relatively accurate.  However, I would not be able to sell my stock.  On 3/21/2012;Update;Client Error:  adress: cannot be retrieved. Please download from here:AD-08/EXAMPLE: As soon as I opened the program a black hole began to fall from the sky.  I could not see anything around the black hole and was stuck inside it.  After several tries it grew much larger and was stuck inside it.  I can see the other kids playing the game now and it is very fun.  I have abandoned it but am considering giving it a minor one.  Reason: the regular free game adds a lot of replay value.  More boards will be added. endpoint:\n",
            "startpoint: I have made several changes to the interface to make it more enjoyable.  The easiest changes are that you are given a deck of cards one at a time, with the next two cards selected.  You now select your favorite color each time, and then the count goes down.  Both the colors and the order in which they are listed are configurable.  More than one way switching between power stations is very fast.  Also is that you can configure the grid profile to have any number of power sources on it, from the ambient air you are in or the surrounding area.  This is a very easy program to use. endpoint:\n",
            "startpoint: I love that in this version of the game if you get stuck and need to exit out of the menu or direction of the arrow that is going across your screen then you can right-click on the spot and exit the program.Other than that however, flawless. endpoint:\n",
            "startpoint: I've been playing this game on the 3d and on the the 2d. I love it. I absolutely love it. I highly recommend it. Be aware that you do need to have WiFi to play. For free it may not be right for you. For free it is A-OK. endpoint:\n",
            "startpoint: I think this is a great app because it has everything you need. TV listings, season reviews, and auto filters. Use it! endpoint:\n",
            "startpoint: I love this app.It works great on the Kindle Fire. I got it as a free app of the day and I am glad I did. endpoint:\n",
            "startpoint: I love this TV guide. It is succinct, well-thought, and it helps to pass the time. It is also customizable. I love that you can filter out the channels you don't watch. endpoint:\n",
            "startpoint: This app was awesome I used to like it but now it isoosizable. Loved the way it represented my town So if you don't want me to check it out anymore! endpoint:\n",
            "startpoint: I exactly missiles it at the last second to save my life but it won't help! Why should people have to pay for this?? Why should their money be on the 3d? endpoint:\n",
            "startpoint: I think it's a really good set of controls for a side scrolling, air travel thriller.\n",
            "\n",
            "[810 | 1084.19] loss=0.05 avg=0.36\n",
            "[820 | 1096.58] loss=0.04 avg=0.35\n",
            "[830 | 1108.98] loss=0.04 avg=0.35\n",
            "[840 | 1121.36] loss=0.04 avg=0.34\n",
            "[850 | 1133.75] loss=0.05 avg=0.34\n",
            "[860 | 1146.14] loss=0.07 avg=0.33\n",
            "[870 | 1158.54] loss=0.03 avg=0.33\n",
            "[880 | 1170.92] loss=0.04 avg=0.32\n",
            "[890 | 1183.30] loss=0.04 avg=0.32\n",
            "[900 | 1195.69] loss=0.04 avg=0.31\n",
            "======== SAMPLE 1 ========\n",
            " our app to locate a car parked in front of you. When the car locates the car, it opens the garage and searches for the vehicle for at least 30 feet before giving up. This occurs only once in a great many times. I've used other methods to locate my car, but the one I have here is no exception. \"Searching for my car from the corner of the screen\" is as much a part of my daily life as \"parking\" is. I don't have to travel all the time to find my car. I can save a lot of time and frustration by being extra diligent with locating my car. \"Searching for my car on the map\" is much easier and more consistent. I can save a lot of time and frustration by being as aware and understanding of my surroundings. I can help people in any direction I go to find my car. endpoint:\n",
            "startpoint: This app only works with people in your country. I don't see how you could get involved, but if you do you must admit  we're looking for music which you can't get anywhere else. endpoint:\n",
            "startpoint: I listen to Rhapsody in my room without an internet connection everyday.  This app helps me get emergency music if need be.  My daughter also plays there song! endpoint:\n",
            "startpoint: I have this app and much more.  I highlight my music and it pops up and you can filter out the channels you don't watch but I keep getting this pop up message.  I tell my son to stop wasting time over this app!!! endpoint:\n",
            "startpoint: I can't get this music to play in the room with me!!!  I uninstalled from both phones, so he (my son) doesn't have to spend any time finding the song.  He also isn't interested in the non performing song.  He found the playing of the song while he was away and doing other things,  so he doesn't have to spend time figuring it out or guessing.  His Apple Device is the best i can get.  If he can get the game to let him use the rooms, that would be definitely possible.  Also, this is music to the ears of the kids, soheeters, and the crows that come along with you.If you want to find your favorite songs, you are in luck!  This App is a great one for finding your favorite shows on a daily basis.  You can even enter your zip code to find your favorite shows.  Help is always on for my favorite channels.  Very convenient. endpoint:\n",
            "startpoint: I got this app to replace BuddyTV, which I had deactivated.  It is nicer to use and has better logo and interface (screensizing is great).  I did try to update it, but it refused my update.  I uninstalled it and am not interested in it.  Deuces horrible review.I am giving this app 4 stars because I do not think the design or functionality of the app is at all clear.  The layout works well, and is convenient and accurate.  The controls are intuitive, and easy to control.  The images are clean and natural, and load in no time.  The selections are precise, and always available when I need them.  And the descriptions are sweet and insightful, and very appropriate for the particular location we're looking for.  That means that of all the apps that I've found trustworthy, this one has been around a lot longer than any of the other apps.Which ones are you more excited to try?  If it's a store you trust, or a convenience store you're paranoid about, or just a place to get music you're passionate about, this might be your one shot. endpoint:\n",
            "startpoint: got it when i was young and used to it though and i just hated it. now it is better as a free app. endpoint:\n",
            "startpoint: It has a purpose imho. Good music without the creepy looking ads.  Have never been able to beat the free theme. endpoint:\n",
            "startpoint: With such simple graphics and no sound, this is definitely a Must Have for any hardcore iDevice user. Very addictive....excellent app!! endpoint:\n",
            "startpoint: It is recommended at first, then encouraged at its best. I used it on my Optimus S as it had the most options for volume and feature songs were gorgeous apart from the fact that it used the gfx in a little bit but that wasn't the only reason i couldn't get it to play was that i had an ad going, bye stock car..  But really the only reason i'm holding it back is that I'm not sure if it's for me or someone else.  I could very well use it. endpoint:\n",
            "startpoint: It has difficulty seeing in the television listings even the freeway at night and even in the photos on my phone. Why would you care about the Sydneysiders pictures when your computer\n",
            "\n",
            "[910 | 1216.53] loss=0.04 avg=0.31\n",
            "[920 | 1228.92] loss=0.05 avg=0.30\n",
            "[930 | 1241.31] loss=0.06 avg=0.30\n",
            "[940 | 1253.68] loss=0.04 avg=0.30\n",
            "[950 | 1266.08] loss=0.05 avg=0.29\n",
            "[960 | 1278.49] loss=0.04 avg=0.29\n",
            "[970 | 1290.89] loss=0.03 avg=0.28\n",
            "[980 | 1303.30] loss=0.03 avg=0.28\n",
            "[990 | 1315.69] loss=0.05 avg=0.28\n",
            "[1000 | 1328.09] loss=0.04 avg=0.27\n",
            "Saving checkpoint/run1/model-1000\n",
            "WARNING:tensorflow:From /usr/local/lib/python3.6/dist-packages/tensorflow_core/python/training/saver.py:963: remove_checkpoint (from tensorflow.python.training.checkpoint_management) is deprecated and will be removed in a future version.\n",
            "Instructions for updating:\n",
            "Use standard file APIs to delete files with this prefix.\n"
          ],
          "name": "stdout"
        }
      ]
    },
    {
      "cell_type": "markdown",
      "metadata": {
        "id": "IXSuTNERaw6K",
        "colab_type": "text"
      },
      "source": [
        "After the model is trained, you can copy the checkpoint folder to your own Google Drive.\n",
        "\n",
        "If you want to download it to your personal computer, it's strongly recommended you copy it there first, then download from Google Drive. The checkpoint folder is copied as a `.rar` compressed file; you can download it and uncompress it locally."
      ]
    },
    {
      "cell_type": "code",
      "metadata": {
        "id": "VHdTL8NDbAh3",
        "colab_type": "code",
        "colab": {}
      },
      "source": [
        "gpt2.copy_checkpoint_to_gdrive(run_name='run1')"
      ],
      "execution_count": 0,
      "outputs": []
    },
    {
      "cell_type": "markdown",
      "metadata": {
        "id": "qQJgV_b4bmzd",
        "colab_type": "text"
      },
      "source": [
        "You're done! Feel free to go to the **Generate Text From The Trained Model** section to generate text based on your retrained model."
      ]
    },
    {
      "cell_type": "markdown",
      "metadata": {
        "id": "pel-uBULXO2L",
        "colab_type": "text"
      },
      "source": [
        "## Load a Trained Model Checkpoint\n",
        "\n",
        "Running the next cell will copy the `.rar` checkpoint file from your Google Drive into the Colaboratory VM."
      ]
    },
    {
      "cell_type": "code",
      "metadata": {
        "id": "DCcx5u7sbPTD",
        "colab_type": "code",
        "colab": {}
      },
      "source": [
        "gpt2.copy_checkpoint_from_gdrive(run_name='run1')"
      ],
      "execution_count": 0,
      "outputs": []
    },
    {
      "cell_type": "markdown",
      "metadata": {
        "id": "RTa6zf3e_9gV",
        "colab_type": "text"
      },
      "source": [
        "The next cell will allow you to load the retrained model checkpoint + metadata necessary to generate text.\n",
        "\n",
        "**IMPORTANT NOTE:** If you want to rerun this cell, **restart the VM first** (Runtime -> Restart Runtime). You will need to rerun imports but not recopy files."
      ]
    },
    {
      "cell_type": "code",
      "metadata": {
        "id": "-fxL77nvAMAX",
        "colab_type": "code",
        "outputId": "f76a6902-818d-4162-e28c-4ba97335655e",
        "colab": {
          "base_uri": "https://localhost:8080/",
          "height": 51
        }
      },
      "source": [
        "sess = gpt2.start_tf_sess()\n",
        "gpt2.load_gpt2(sess, run_name='run1')"
      ],
      "execution_count": 10,
      "outputs": [
        {
          "output_type": "stream",
          "text": [
            "Loading checkpoint checkpoint/run1/model-1000\n",
            "INFO:tensorflow:Restoring parameters from checkpoint/run1/model-1000\n"
          ],
          "name": "stdout"
        }
      ]
    },
    {
      "cell_type": "markdown",
      "metadata": {
        "id": "ClJwpF_ACONp",
        "colab_type": "text"
      },
      "source": [
        "## Generate Text From The Trained Model\n",
        "\n",
        "After you've trained the model or loaded a retrained model from checkpoint, you can now generate text. `generate` generates a single text from the loaded model."
      ]
    },
    {
      "cell_type": "code",
      "metadata": {
        "id": "4RNY6RBI9LmL",
        "colab_type": "code",
        "outputId": "c5b816e8-09cb-4ca4-d50c-28b26bc18c5d",
        "colab": {
          "base_uri": "https://localhost:8080/",
          "height": 360
        }
      },
      "source": [
        "gpt2.generate(sess, run_name='run1')"
      ],
      "execution_count": 11,
      "outputs": [
        {
          "output_type": "stream",
          "text": [
            "startpoint: I've been playing around with this launcher for the last 5 hours, at first it was really cool, even though ALL my widgets disappeared. They have a nice interface that makes it easy to use.after uninstalling your prefab will still work. I uninstalled it and re-installed it, expecting much better results, even though the app may still be useless. I was so disappointed with the old version that I bought a new one just for me.  I need a better one. endpoint:\n",
            "startpoint: I got a new Kindle and quickly started downloading a bunch of apps and books.  I downloaded this app and realized it wasn&#8217;t for me.  It bored me very quickly.  I downloaded the important ones from Amazon&#8217;s library and am content with what I have.  Not for me&#8230;but maybe you&#8217;ll like it. endpoint:\n",
            "startpoint: I like it cause the music can be saved and stored in rhapsody song match and if you have an account with them your music is automatically saved. endpoint:\n",
            "startpoint: I love Rhapsody and have it on my home computer.  But this AP wanted me to pay for a second membership for it. I deleted it from my kindle endpoint:\n",
            "startpoint: Excellent source for music if your  willing to pay for the service.  If you're looking for music give it a try, they give you a free trail. If you don't like it you can always look elsewhere. endpoint:\n",
            "startpoint: This app is a widget on Android devices; works as an app on the Fire.  Easy to use, and provide reviews and information about the artists you listen to. endpoint:\n",
            "startpoint: Went looking for a app to listen to tunes on my Kindle fire.Tried a few free app,not my cup of tea).Like this 1 cause I don't have to take up a lot of space on my device. endpoint:\n",
            "startpoint: This simply is the best app for music. $10 is a great price to get all of your favorite songs classic and modern. Don't go anywhere else. Falsify is the best endpoint:\n",
            "startpoint: This app was a free trial for a certain amount of time. I used it daily when I downloaded it.  I enjoyed being able to listen to any song I was in the mood for. endpoint:\n",
            "startpoint: For those of you who already have a Rhapsody subscription this is a good app to get.  As long as you can connect to the internet you can listen to your music without filling your devices storage space.  The interface is simple to use.  It needs a graphic equalizer and at nothing you can&#8217;t beat the price. endpoint:\n",
            "startpoint: Works great!  Sign in once and get most of your music at your fingertips!  Not all music is readily available, but most is right there! endpoint:\n",
            "startpoint: Rhapsody is great if you like electronic music.. It is easy to use and has a lot of variety. I am new to electronic music and was a fan before I bought my first MP3 player.I would recommend this product to anyone who likes to listen to music or likes to be entertained.I have been looking for music apps and this is my fav feature.I have been looking for just the thing to listen to and I have it on my tablet. endpoint:\n",
            "startpoint: The app is a good app however it was not good for my needs.  I just wanted a classical music app for my music devices. endpoint:\n",
            "startpoint: I was looking for a app to play music in random order. Instead the app did something I have not seen on the app store in a long time. I tried several other music apps and this one works. endpoint:\n",
            "startpoint: The same as Rhapsody ES, but songs are not saved properly.\n",
            "startpoint: This is a good app because it lets you listen to music in a playlist or as a standalone app. You can listen to yourself or your music music music is always available. endpoint:\n",
            "startpoint: I have been using this music source for a long time.  They have a fine setting for my phone, not the TV service.  I do not own a TV remote control, but I deleted this app a time to yourself. endpoint:\n",
            "startpoint: The app is a nice app for TV listings.  There are some problems with the TV network filtering that need addressing, but the TV channel filtering is superior.  The TV guide is also very well designed. endpoint:\n",
            "startpoint: I am really enjoying this app.  I like the fact that it doesn't have and reviews from others indicate that it is very accurate.  I like the daily TV guide as well but this is a little obtrusive.  I also like the daily TV tv\n"
          ],
          "name": "stdout"
        }
      ]
    },
    {
      "cell_type": "markdown",
      "metadata": {
        "id": "oF4-PqF0Fl7R",
        "colab_type": "text"
      },
      "source": [
        "If you're creating an API based on your model and need to pass the generated text elsewhere, you can do `text = gpt2.generate(sess, return_as_list=True)[0]`\n",
        "\n",
        "You can also pass in a `prefix` to the generate function to force the text to start with a given character sequence and generate text from there (good if you add an indicator when the text starts).\n",
        "\n",
        "You can also generate multiple texts at a time by specifing `nsamples`. Unique to GPT-2, you can pass a `batch_size` to generate multiple samples in parallel, giving a massive speedup (in Colaboratory, set a maximum of 20 for `batch_size`).\n",
        "\n",
        "Other optional-but-helpful parameters for `gpt2.generate` and friends:\n",
        "\n",
        "*  **`length`**: Number of tokens to generate (default 1023, the maximum)\n",
        "* **`temperature`**: The higher the temperature, the crazier the text (default 0.7, recommended to keep between 0.7 and 1.0)\n",
        "* **`top_k`**: Limits the generated guesses to the top *k* guesses (default 0 which disables the behavior; if the generated output is super crazy, you may want to set `top_k=40`)\n",
        "* **`top_p`**: Nucleus sampling: limits the generated guesses to a cumulative probability. (gets good results on a dataset with `top_p=0.9`)\n",
        "* **`truncate`**: Truncates the input text until a given sequence, excluding that sequence (e.g. if `truncate='<|endoftext|>'`, the returned text will include everything before the first `<|endoftext|>`). It may be useful to combine this with a smaller `length` if the input texts are short.\n",
        "*  **`include_prefix`**: If using `truncate` and `include_prefix=False`, the specified `prefix` will not be included in the returned text."
      ]
    },
    {
      "cell_type": "code",
      "metadata": {
        "id": "8DKMc0fiej4N",
        "colab_type": "code",
        "outputId": "06d48167-19ba-4306-bdf7-f5184f656eb1",
        "colab": {
          "base_uri": "https://localhost:8080/",
          "height": 207
        }
      },
      "source": [
        "gpt2.generate(sess,\n",
        "              length=250,\n",
        "              temperature=0.7,\n",
        "              prefix=\"startpoint\",\n",
        "              truncate=\"endpoint\",\n",
        "              include_prefix=False ,\n",
        "              nsamples=5,\n",
        "              batch_size=5\n",
        "              )"
      ],
      "execution_count": 14,
      "outputs": [
        {
          "output_type": "stream",
          "text": [
            ": I use a standard Kindle Fire for small to moderate to moderate of operation. I find it more useful than a TV guide or TV listings. Setup is simple - place your dock in the middle of the room, place your phone/tablet/whatever over the top of the screen, and tilt to look up and down. The NKICSIE shows the show in order of appearance, with the details sorted alphabetically. Sort by: More than 1.5 stars, but maybe a few might be too much. Could be better. \n",
            "====================\n",
            ": this app is useful  when  I am in a rush and want to memorize information or just for fun.  It is good at that. \n",
            "====================\n",
            ": I have a Motorola ATRIX and just got the 2.3.4 Gingerbread update. IMHO this update makes this program unnecessary. I spent hours working to get the dxTop close to what I already had and the widgets were nowhere to be found. How come the dxTop never closes? How come the Force close button never opens? How come the recent app update try to update the dxTop which I already had installed, but got ignored? How come the recent app update ignore all the messages about crashes and crap? How come the latest update ignore all the stupid requests? No reason they can't build in better features and keep making the old things. They're just trying to make money off of this. This is old problems being worked over. This is new problems being worked over. This is better. \n",
            "====================\n",
            ": This game is ok though. You play against yourself. Not so bad as far as word games go. I don't play that often. \n",
            "====================\n",
            ": I love this app. It helps so much if you dont have cable hooked up to your tv!!! All you is put in your area code and select your network!!! \n",
            "====================\n"
          ],
          "name": "stdout"
        }
      ]
    },
    {
      "cell_type": "markdown",
      "metadata": {
        "id": "zjjEN2Tafhl2",
        "colab_type": "text"
      },
      "source": [
        "For bulk generation, you can generate a large amount of text to a file and sort out the samples locally on your computer. The next cell will generate a generated text file with a unique timestamp.\n",
        "\n",
        "You can rerun the cells as many times as you want for even more generated texts!"
      ]
    },
    {
      "cell_type": "code",
      "metadata": {
        "id": "Fa6p6arifSL0",
        "colab_type": "code",
        "colab": {}
      },
      "source": [
        "gen_file = 'gpt2_gentext_{:%Y%m%d_%H%M%S}.txt'.format(datetime.utcnow())\n",
        "\n",
        "gpt2.generate_to_file(sess,\n",
        "                      destination_path=gen_file,\n",
        "                      length=500,\n",
        "                      temperature=0.7,\n",
        "                      nsamples=100,\n",
        "                      batch_size=20\n",
        "                      )"
      ],
      "execution_count": 0,
      "outputs": []
    },
    {
      "cell_type": "code",
      "metadata": {
        "id": "0-LRex8lfv1g",
        "colab_type": "code",
        "colab": {}
      },
      "source": [
        "# may have to run twice to get file to download\n",
        "files.download(gen_file)"
      ],
      "execution_count": 0,
      "outputs": []
    },
    {
      "cell_type": "markdown",
      "metadata": {
        "id": "QQAN3M6RT7Kj",
        "colab_type": "text"
      },
      "source": [
        "## Generate Text From The Pretrained Model\n",
        "\n",
        "If you want to generate text from the pretrained model, not a finetuned model, pass `model_name` to `gpt2.load_gpt2()` and `gpt2.generate()`.\n",
        "\n",
        "This is currently the only way to generate text from the 774M or 1558M models with this notebook."
      ]
    },
    {
      "cell_type": "code",
      "metadata": {
        "id": "hsUd_jHgUZnD",
        "colab_type": "code",
        "outputId": "2ed98d98-9828-4776-d63e-2c586ee0a8af",
        "colab": {
          "base_uri": "https://localhost:8080/",
          "height": 136
        }
      },
      "source": [
        "model_name = \"774M\"\n",
        "\n",
        "gpt2.download_gpt2(model_name=model_name)"
      ],
      "execution_count": 0,
      "outputs": [
        {
          "output_type": "stream",
          "text": [
            "Fetching checkpoint: 1.05Mit [00:00, 308Mit/s]                                                      \n",
            "Fetching encoder.json: 1.05Mit [00:00, 114Mit/s]                                                    \n",
            "Fetching hparams.json: 1.05Mit [00:00, 583Mit/s]                                                    \n",
            "Fetching model.ckpt.data-00000-of-00001: 3.10Git [00:40, 77.1Mit/s]                                 \n",
            "Fetching model.ckpt.index: 1.05Mit [00:00, 737Mit/s]                                                \n",
            "Fetching model.ckpt.meta: 2.10Mit [00:00, 216Mit/s]                                                 \n",
            "Fetching vocab.bpe: 1.05Mit [00:00, 197Mit/s]                                                       \n"
          ],
          "name": "stderr"
        }
      ]
    },
    {
      "cell_type": "code",
      "metadata": {
        "id": "BAe4NpKNUj2C",
        "colab_type": "code",
        "outputId": "3c509e3d-531b-4e28-8046-6637a1bd82ff",
        "colab": {
          "base_uri": "https://localhost:8080/",
          "height": 51
        }
      },
      "source": [
        "sess = gpt2.start_tf_sess()\n",
        "\n",
        "gpt2.load_gpt2(sess, model_name=model_name)"
      ],
      "execution_count": 0,
      "outputs": [
        {
          "output_type": "stream",
          "text": [
            "Loading pretrained model models/774M/model.ckpt\n",
            "INFO:tensorflow:Restoring parameters from models/774M/model.ckpt\n"
          ],
          "name": "stdout"
        }
      ]
    },
    {
      "cell_type": "code",
      "metadata": {
        "id": "-xInIZKaU104",
        "colab_type": "code",
        "colab": {}
      },
      "source": [
        "gpt2.generate(sess,\n",
        "              model_name=model_name,\n",
        "              length=100,\n",
        "              temperature=0.7,\n",
        "              top_p=0.9,\n",
        "              nsamples=5,\n",
        "              batch_size=5\n",
        "              )"
      ],
      "execution_count": 0,
      "outputs": []
    },
    {
      "cell_type": "markdown",
      "metadata": {
        "id": "ig-KVgkCDCKD",
        "colab_type": "text"
      },
      "source": [
        "# Etcetera\n",
        "\n",
        "If the notebook has errors (e.g. GPU Sync Fail), force-kill the Colaboratory virtual machine and restart it with the command below:"
      ]
    },
    {
      "cell_type": "code",
      "metadata": {
        "id": "rIHiVP53FnsX",
        "colab_type": "code",
        "colab": {}
      },
      "source": [
        "!kill -9 -1"
      ],
      "execution_count": 0,
      "outputs": []
    },
    {
      "cell_type": "markdown",
      "metadata": {
        "id": "wmTXWNUygS5E",
        "colab_type": "text"
      },
      "source": [
        "# LICENSE\n",
        "\n",
        "MIT License\n",
        "\n",
        "Copyright (c) 2019 Max Woolf\n",
        "\n",
        "Permission is hereby granted, free of charge, to any person obtaining a copy\n",
        "of this software and associated documentation files (the \"Software\"), to deal\n",
        "in the Software without restriction, including without limitation the rights\n",
        "to use, copy, modify, merge, publish, distribute, sublicense, and/or sell\n",
        "copies of the Software, and to permit persons to whom the Software is\n",
        "furnished to do so, subject to the following conditions:\n",
        "\n",
        "The above copyright notice and this permission notice shall be included in all\n",
        "copies or substantial portions of the Software.\n",
        "\n",
        "THE SOFTWARE IS PROVIDED \"AS IS\", WITHOUT WARRANTY OF ANY KIND, EXPRESS OR\n",
        "IMPLIED, INCLUDING BUT NOT LIMITED TO THE WARRANTIES OF MERCHANTABILITY,\n",
        "FITNESS FOR A PARTICULAR PURPOSE AND NONINFRINGEMENT. IN NO EVENT SHALL THE\n",
        "AUTHORS OR COPYRIGHT HOLDERS BE LIABLE FOR ANY CLAIM, DAMAGES OR OTHER\n",
        "LIABILITY, WHETHER IN AN ACTION OF CONTRACT, TORT OR OTHERWISE, ARISING FROM,\n",
        "OUT OF OR IN CONNECTION WITH THE SOFTWARE OR THE USE OR OTHER DEALINGS IN THE\n",
        "SOFTWARE."
      ]
    }
  ]
}